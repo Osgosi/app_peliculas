{
 "cells": [
  {
   "cell_type": "code",
   "execution_count": 1,
   "id": "d7c5b42d-a244-439f-a788-bd4b86c19bc7",
   "metadata": {},
   "outputs": [
    {
     "name": "stdout",
     "output_type": "stream",
     "text": [
      "Las columnas del Dataset son: \n",
      "Index(['budget', 'genres', 'homepage', 'id', 'keywords', 'original_language',\n",
      "       'original_title', 'overview', 'popularity', 'production_companies',\n",
      "       'production_countries', 'release_date', 'revenue', 'runtime',\n",
      "       'spoken_languages', 'status', 'tagline', 'title', 'vote_average',\n",
      "       'vote_count'],\n",
      "      dtype='object') \n",
      "\n",
      "\n",
      "<class 'pandas.core.frame.DataFrame'>\n",
      "RangeIndex: 4803 entries, 0 to 4802\n",
      "Data columns (total 20 columns):\n",
      " #   Column                Non-Null Count  Dtype  \n",
      "---  ------                --------------  -----  \n",
      " 0   budget                4803 non-null   int64  \n",
      " 1   genres                4803 non-null   object \n",
      " 2   homepage              1712 non-null   object \n",
      " 3   id                    4803 non-null   int64  \n",
      " 4   keywords              4803 non-null   object \n",
      " 5   original_language     4803 non-null   object \n",
      " 6   original_title        4803 non-null   object \n",
      " 7   overview              4800 non-null   object \n",
      " 8   popularity            4803 non-null   float64\n",
      " 9   production_companies  4803 non-null   object \n",
      " 10  production_countries  4803 non-null   object \n",
      " 11  release_date          4802 non-null   object \n",
      " 12  revenue               4803 non-null   int64  \n",
      " 13  runtime               4801 non-null   float64\n",
      " 14  spoken_languages      4803 non-null   object \n",
      " 15  status                4803 non-null   object \n",
      " 16  tagline               3959 non-null   object \n",
      " 17  title                 4803 non-null   object \n",
      " 18  vote_average          4803 non-null   float64\n",
      " 19  vote_count            4803 non-null   int64  \n",
      "dtypes: float64(3), int64(4), object(13)\n",
      "memory usage: 750.6+ KB\n",
      "\n",
      "\n",
      " budget                     0\n",
      "genres                     0\n",
      "homepage                3091\n",
      "id                         0\n",
      "keywords                   0\n",
      "original_language          0\n",
      "original_title             0\n",
      "overview                   3\n",
      "popularity                 0\n",
      "production_companies       0\n",
      "production_countries       0\n",
      "release_date               1\n",
      "revenue                    0\n",
      "runtime                    2\n",
      "spoken_languages           0\n",
      "status                     0\n",
      "tagline                  844\n",
      "title                      0\n",
      "vote_average               0\n",
      "vote_count                 0\n",
      "dtype: int64\n"
     ]
    }
   ],
   "source": [
    "#Impoartar librerias para procesar información (Dataset y funciones de limpieza)\n",
    "import pandas as pd\n",
    "from limpieza import * #Se importan las funciones para la limpieza del Dataset desde otro archivo.\n",
    "\n",
    "#Cargar dataset al proyecto de Python.\n",
    "df = pd.read_csv(\"datos/tmdb_5000_movies.csv\")\n",
    "df.head()\n",
    "\n",
    "#PARTE 2 IMPRIME:\n",
    "# A) Columnas del dataset.\n",
    "print(\"Las columnas del Dataset son: \")\n",
    "print(df.columns, \"\\n\\n\")\n",
    "\n",
    "# B) Número de películas registradas.\n",
    "df.info()\n",
    "\n",
    "# C) Valores nulos por columna\n",
    "print(\"\\n\\n\",df.isnull().sum())"
   ]
  },
  {
   "cell_type": "code",
   "execution_count": 2,
   "id": "f6a008a6-d490-4630-b720-d92a49cd1166",
   "metadata": {},
   "outputs": [],
   "source": [
    "#PARTE 3 DEL EJERCICIO\n",
    "import json\n",
    "\n",
    "df[\"genres\"] = df[\"genres\"].apply(lambda x: json.loads(x))\n",
    "df[\"n_generos\"] = df[\"genres\"].apply(lambda g: len(g))\n",
    "df[\"lista_generos\"] = df[\"genres\"].apply(lambda g: [d[\"name\"] for d in g])"
   ]
  },
  {
   "cell_type": "code",
   "execution_count": 3,
   "id": "9f1a5a58-2dca-4c83-a1f4-b44f82e8ba84",
   "metadata": {},
   "outputs": [
    {
     "data": {
      "text/html": [
       "<div>\n",
       "<style scoped>\n",
       "    .dataframe tbody tr th:only-of-type {\n",
       "        vertical-align: middle;\n",
       "    }\n",
       "\n",
       "    .dataframe tbody tr th {\n",
       "        vertical-align: top;\n",
       "    }\n",
       "\n",
       "    .dataframe thead th {\n",
       "        text-align: right;\n",
       "    }\n",
       "</style>\n",
       "<table border=\"1\" class=\"dataframe\">\n",
       "  <thead>\n",
       "    <tr style=\"text-align: right;\">\n",
       "      <th></th>\n",
       "      <th>original_title</th>\n",
       "      <th>lista_generos</th>\n",
       "    </tr>\n",
       "  </thead>\n",
       "  <tbody>\n",
       "    <tr>\n",
       "      <th>0</th>\n",
       "      <td>Avatar</td>\n",
       "      <td>[Action, Adventure, Fantasy, Science Fiction]</td>\n",
       "    </tr>\n",
       "    <tr>\n",
       "      <th>1</th>\n",
       "      <td>Pirates of the Caribbean: At World's End</td>\n",
       "      <td>[Adventure, Fantasy, Action]</td>\n",
       "    </tr>\n",
       "    <tr>\n",
       "      <th>2</th>\n",
       "      <td>Spectre</td>\n",
       "      <td>[Action, Adventure, Crime]</td>\n",
       "    </tr>\n",
       "    <tr>\n",
       "      <th>3</th>\n",
       "      <td>The Dark Knight Rises</td>\n",
       "      <td>[Action, Crime, Drama, Thriller]</td>\n",
       "    </tr>\n",
       "    <tr>\n",
       "      <th>4</th>\n",
       "      <td>John Carter</td>\n",
       "      <td>[Action, Adventure, Science Fiction]</td>\n",
       "    </tr>\n",
       "  </tbody>\n",
       "</table>\n",
       "</div>"
      ],
      "text/plain": [
       "                             original_title  \\\n",
       "0                                    Avatar   \n",
       "1  Pirates of the Caribbean: At World's End   \n",
       "2                                   Spectre   \n",
       "3                     The Dark Knight Rises   \n",
       "4                               John Carter   \n",
       "\n",
       "                                   lista_generos  \n",
       "0  [Action, Adventure, Fantasy, Science Fiction]  \n",
       "1                   [Adventure, Fantasy, Action]  \n",
       "2                     [Action, Adventure, Crime]  \n",
       "3               [Action, Crime, Drama, Thriller]  \n",
       "4           [Action, Adventure, Science Fiction]  "
      ]
     },
     "execution_count": 3,
     "metadata": {},
     "output_type": "execute_result"
    }
   ],
   "source": [
    "df[['original_title', 'lista_generos']].head()"
   ]
  },
  {
   "cell_type": "code",
   "execution_count": 4,
   "id": "41b6102f-07ca-4bdc-bcb5-3606625cbc9b",
   "metadata": {},
   "outputs": [
    {
     "data": {
      "text/plain": [
       "0    2009.0\n",
       "1    2007.0\n",
       "2    2015.0\n",
       "3    2012.0\n",
       "4    2012.0\n",
       "Name: year, dtype: float64"
      ]
     },
     "execution_count": 4,
     "metadata": {},
     "output_type": "execute_result"
    }
   ],
   "source": [
    "#PARTE 3 DEL EJERCICIO\n",
    "#Función para convertir la fecha de lanzamiento a formato DateTime\n",
    "from limpieza import *\n",
    "    \n",
    "df = date_convert(df)\n",
    "df['release_date'].dt.year\n",
    "\n",
    "df = limpiar_presupuesto_ingresos(df)\n",
    "df['presupuesto_conocido'].head()\n",
    "\n",
    "df = calculate_roi(df)\n",
    "df['roi'].head()\n",
    "\n",
    "df = extraer_año(df)\n",
    "df['year'].head()"
   ]
  },
  {
   "cell_type": "code",
   "execution_count": 8,
   "id": "ab6fbf62-d2b0-4c44-93f5-50203f7255ec",
   "metadata": {},
   "outputs": [
    {
     "data": {
      "text/html": [
       "<div>\n",
       "<style scoped>\n",
       "    .dataframe tbody tr th:only-of-type {\n",
       "        vertical-align: middle;\n",
       "    }\n",
       "\n",
       "    .dataframe tbody tr th {\n",
       "        vertical-align: top;\n",
       "    }\n",
       "\n",
       "    .dataframe thead th {\n",
       "        text-align: right;\n",
       "    }\n",
       "</style>\n",
       "<table border=\"1\" class=\"dataframe\">\n",
       "  <thead>\n",
       "    <tr style=\"text-align: right;\">\n",
       "      <th></th>\n",
       "      <th>original_title</th>\n",
       "      <th>roi</th>\n",
       "    </tr>\n",
       "  </thead>\n",
       "  <tbody>\n",
       "    <tr>\n",
       "      <th>4238</th>\n",
       "      <td>Modern Times</td>\n",
       "      <td>8.500000e+06</td>\n",
       "    </tr>\n",
       "    <tr>\n",
       "      <th>3137</th>\n",
       "      <td>Nurse 3-D</td>\n",
       "      <td>1.000000e+06</td>\n",
       "    </tr>\n",
       "    <tr>\n",
       "      <th>4577</th>\n",
       "      <td>Paranormal Activity</td>\n",
       "      <td>1.289039e+04</td>\n",
       "    </tr>\n",
       "    <tr>\n",
       "      <th>4582</th>\n",
       "      <td>Tarnation</td>\n",
       "      <td>5.330339e+03</td>\n",
       "    </tr>\n",
       "    <tr>\n",
       "      <th>4496</th>\n",
       "      <td>The Blair Witch Project</td>\n",
       "      <td>4.133333e+03</td>\n",
       "    </tr>\n",
       "  </tbody>\n",
       "</table>\n",
       "</div>"
      ],
      "text/plain": [
       "               original_title           roi\n",
       "4238             Modern Times  8.500000e+06\n",
       "3137                Nurse 3-D  1.000000e+06\n",
       "4577      Paranormal Activity  1.289039e+04\n",
       "4582                Tarnation  5.330339e+03\n",
       "4496  The Blair Witch Project  4.133333e+03"
      ]
     },
     "execution_count": 8,
     "metadata": {},
     "output_type": "execute_result"
    }
   ],
   "source": [
    "#PARTE 4 DEL EJERCICIO\n",
    "#¿Cuáles son las 5 películas con mayor ROI?\n",
    "df[['original_title', 'roi']].sort_values(by='roi', ascending=False).head(5)\n"
   ]
  },
  {
   "cell_type": "code",
   "execution_count": 11,
   "id": "1bb5dc50-65e5-46ea-b98a-d11dd3f53b83",
   "metadata": {},
   "outputs": [
    {
     "data": {
      "text/plain": [
       "year\n",
       "1916.0      1\n",
       "1925.0      1\n",
       "1927.0      1\n",
       "1929.0      2\n",
       "1930.0      1\n",
       "         ... \n",
       "2013.0    231\n",
       "2014.0    238\n",
       "2015.0    216\n",
       "2016.0    104\n",
       "2017.0      1\n",
       "Name: original_title, Length: 90, dtype: int64"
      ]
     },
     "execution_count": 11,
     "metadata": {},
     "output_type": "execute_result"
    }
   ],
   "source": [
    "#¿Cuántas películas se estrenaron por año.\n",
    "df.groupby('year')['original_title'].count()"
   ]
  },
  {
   "cell_type": "code",
   "execution_count": 22,
   "id": "112ee0d6-538b-4fb8-9b10-d1818aa701f1",
   "metadata": {},
   "outputs": [
    {
     "data": {
      "text/plain": [
       "year\n",
       "2014.0    95\n",
       "2015.0    90\n",
       "2009.0    86\n",
       "Name: count, dtype: int64"
      ]
     },
     "execution_count": 22,
     "metadata": {},
     "output_type": "execute_result"
    }
   ],
   "source": [
    "#¿Cuáles son los 3 años con más películas sin ingresos?\n",
    "condicion = df['ingresos_conocidos'] == False #Condición para obtener filas con ingresos igual a cero\n",
    "sin_ingresos = df[condicion] \n",
    "sin_ingresos['year'].value_counts().head(3)"
   ]
  },
  {
   "cell_type": "code",
   "execution_count": 28,
   "id": "3057cd02-103c-4ecc-b7cf-d551ee6d7a3a",
   "metadata": {},
   "outputs": [
    {
     "name": "stdout",
     "output_type": "stream",
     "text": [
      "Las películas con mayor budget y menor ROI son:\n"
     ]
    },
    {
     "data": {
      "text/html": [
       "<div>\n",
       "<style scoped>\n",
       "    .dataframe tbody tr th:only-of-type {\n",
       "        vertical-align: middle;\n",
       "    }\n",
       "\n",
       "    .dataframe tbody tr th {\n",
       "        vertical-align: top;\n",
       "    }\n",
       "\n",
       "    .dataframe thead th {\n",
       "        text-align: right;\n",
       "    }\n",
       "</style>\n",
       "<table border=\"1\" class=\"dataframe\">\n",
       "  <thead>\n",
       "    <tr style=\"text-align: right;\">\n",
       "      <th></th>\n",
       "      <th>original_title</th>\n",
       "      <th>budget</th>\n",
       "      <th>roi</th>\n",
       "    </tr>\n",
       "  </thead>\n",
       "  <tbody>\n",
       "    <tr>\n",
       "      <th>135</th>\n",
       "      <td>The Wolfman</td>\n",
       "      <td>150000000</td>\n",
       "      <td>0.0</td>\n",
       "    </tr>\n",
       "    <tr>\n",
       "      <th>1652</th>\n",
       "      <td>Dragonball Evolution</td>\n",
       "      <td>100000000</td>\n",
       "      <td>0.0</td>\n",
       "    </tr>\n",
       "    <tr>\n",
       "      <th>376</th>\n",
       "      <td>Volcano</td>\n",
       "      <td>90000000</td>\n",
       "      <td>0.0</td>\n",
       "    </tr>\n",
       "    <tr>\n",
       "      <th>467</th>\n",
       "      <td>Mighty Joe Young</td>\n",
       "      <td>90000000</td>\n",
       "      <td>0.0</td>\n",
       "    </tr>\n",
       "    <tr>\n",
       "      <th>471</th>\n",
       "      <td>Little Nicky</td>\n",
       "      <td>85000000</td>\n",
       "      <td>0.0</td>\n",
       "    </tr>\n",
       "    <tr>\n",
       "      <th>309</th>\n",
       "      <td>Son of the Mask</td>\n",
       "      <td>84000000</td>\n",
       "      <td>0.0</td>\n",
       "    </tr>\n",
       "    <tr>\n",
       "      <th>433</th>\n",
       "      <td>RED 2</td>\n",
       "      <td>84000000</td>\n",
       "      <td>0.0</td>\n",
       "    </tr>\n",
       "    <tr>\n",
       "      <th>780</th>\n",
       "      <td>Edtv</td>\n",
       "      <td>80000000</td>\n",
       "      <td>0.0</td>\n",
       "    </tr>\n",
       "    <tr>\n",
       "      <th>845</th>\n",
       "      <td>Instinct</td>\n",
       "      <td>80000000</td>\n",
       "      <td>0.0</td>\n",
       "    </tr>\n",
       "    <tr>\n",
       "      <th>518</th>\n",
       "      <td>Inspector Gadget</td>\n",
       "      <td>75000000</td>\n",
       "      <td>0.0</td>\n",
       "    </tr>\n",
       "    <tr>\n",
       "      <th>536</th>\n",
       "      <td>Anna and the King</td>\n",
       "      <td>75000000</td>\n",
       "      <td>0.0</td>\n",
       "    </tr>\n",
       "    <tr>\n",
       "      <th>2049</th>\n",
       "      <td>Dudley Do-Right</td>\n",
       "      <td>70000000</td>\n",
       "      <td>0.0</td>\n",
       "    </tr>\n",
       "    <tr>\n",
       "      <th>648</th>\n",
       "      <td>Mona Lisa Smile</td>\n",
       "      <td>65000000</td>\n",
       "      <td>0.0</td>\n",
       "    </tr>\n",
       "    <tr>\n",
       "      <th>656</th>\n",
       "      <td>Primary Colors</td>\n",
       "      <td>65000000</td>\n",
       "      <td>0.0</td>\n",
       "    </tr>\n",
       "    <tr>\n",
       "      <th>660</th>\n",
       "      <td>Proof of Life</td>\n",
       "      <td>65000000</td>\n",
       "      <td>0.0</td>\n",
       "    </tr>\n",
       "  </tbody>\n",
       "</table>\n",
       "</div>"
      ],
      "text/plain": [
       "            original_title     budget  roi\n",
       "135            The Wolfman  150000000  0.0\n",
       "1652  Dragonball Evolution  100000000  0.0\n",
       "376                Volcano   90000000  0.0\n",
       "467       Mighty Joe Young   90000000  0.0\n",
       "471           Little Nicky   85000000  0.0\n",
       "309        Son of the Mask   84000000  0.0\n",
       "433                  RED 2   84000000  0.0\n",
       "780                   Edtv   80000000  0.0\n",
       "845               Instinct   80000000  0.0\n",
       "518       Inspector Gadget   75000000  0.0\n",
       "536      Anna and the King   75000000  0.0\n",
       "2049       Dudley Do-Right   70000000  0.0\n",
       "648        Mona Lisa Smile   65000000  0.0\n",
       "656         Primary Colors   65000000  0.0\n",
       "660          Proof of Life   65000000  0.0"
      ]
     },
     "execution_count": 28,
     "metadata": {},
     "output_type": "execute_result"
    }
   ],
   "source": [
    "#¿Qué películas tienen budget muy alto pero ROI negativo?\n",
    "print(\"Las películas con mayor budget y menor ROI son:\")\n",
    "df[['original_title', 'budget', 'roi']].sort_values(by=['roi', 'budget'], ascending=[True, False]).head(15)"
   ]
  },
  {
   "cell_type": "code",
   "execution_count": 35,
   "id": "7ad2b292-333f-4677-b598-38ddd30992b5",
   "metadata": {},
   "outputs": [
    {
     "name": "stdin",
     "output_type": "stream",
     "text": [
      "Deseas sobreescribir el archivo? y/n:  y\n"
     ]
    },
    {
     "name": "stdout",
     "output_type": "stream",
     "text": [
      "Archivo actualizado correctamente!!!!\n"
     ]
    }
   ],
   "source": [
    "#Guarda un archivo movies_clean.csv con las columnas: title, release_date, budget, revenue, roi, year y lista_generos.\n",
    "import os\n",
    "\n",
    "if not os.path.exists('movies_clean.csv'):\n",
    "    df[['original_title', 'release_date', 'budget', 'revenue', 'roi', 'year', 'lista_generos']].to_csv(\"movies_clean.csv\", index=False)\n",
    "else:\n",
    "    answ = input('Deseas sobreescribir el archivo? y/n: ')\n",
    "    if answ == 'y' or answ == 'yes':\n",
    "        df[['original_title', 'release_date', 'budget', 'revenue', 'roi', 'year', 'lista_generos']].to_csv(\"movies_clean.csv\", index=False)\n",
    "        print(\"Archivo actualizado correctamente!!!!\")"
   ]
  },
  {
   "cell_type": "code",
   "execution_count": null,
   "id": "a396e989-7927-4724-89f3-ab568da05857",
   "metadata": {},
   "outputs": [],
   "source": []
  },
  {
   "cell_type": "code",
   "execution_count": null,
   "id": "9da35535-334b-41b6-ad0a-59650d2a7053",
   "metadata": {},
   "outputs": [],
   "source": []
  }
 ],
 "metadata": {
  "kernelspec": {
   "display_name": "Python 3 (ipykernel)",
   "language": "python",
   "name": "python3"
  },
  "language_info": {
   "codemirror_mode": {
    "name": "ipython",
    "version": 3
   },
   "file_extension": ".py",
   "mimetype": "text/x-python",
   "name": "python",
   "nbconvert_exporter": "python",
   "pygments_lexer": "ipython3",
   "version": "3.10.16"
  }
 },
 "nbformat": 4,
 "nbformat_minor": 5
}
